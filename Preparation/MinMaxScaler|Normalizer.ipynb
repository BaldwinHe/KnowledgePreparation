{
 "cells": [
  {
   "cell_type": "code",
   "execution_count": 1,
   "metadata": {},
   "outputs": [],
   "source": [
    "import numpy as np\n",
    "from sklearn.preprocessing import MinMaxScaler\n",
    "from sklearn.preprocessing import Normalizer"
   ]
  },
  {
   "cell_type": "code",
   "execution_count": 2,
   "metadata": {},
   "outputs": [],
   "source": [
    "class MyMinMaxScaler():\n",
    "    def __init__(self, min = 0, max = 1):\n",
    "        self.min = min\n",
    "        self.max = max\n",
    "        \n",
    "    def fit(self, X):\n",
    "        X_std = (X - X.min(axis = 0)) / (X.max(axis = 0) - X.min(axis = 0))\n",
    "        X_ans = X_std * (self.max - self.min) + self.min\n",
    "        return X_ans\n",
    "\n",
    "class MyNormalizer():\n",
    "    def __init__(self, type = 'l2'):\n",
    "        self.type = type\n",
    "    def fit(self, X):\n",
    "        norms = None\n",
    "        if(self.type == 'l2'):\n",
    "            norms = np.sqrt(np.sum(np.square(X), axis = 1))\n",
    "        elif(self.type == 'l1'):\n",
    "            norms = np.sum(np.abs(X), axis=1)\n",
    "        elif(self.type == 'max'):\n",
    "            norms = np.max(X, axis = 1)\n",
    "        else:\n",
    "            return X\n",
    "        norms[norms == 0.0] = 1.0\n",
    "        X_ans = X / norms[:, np.newaxis]\n",
    "        return X_ans"
   ]
  },
  {
   "cell_type": "code",
   "execution_count": 3,
   "metadata": {},
   "outputs": [],
   "source": [
    "X = np.array([[ 1., -1.,  1.],\n",
    "              [ 2.,  0.,  2.],\n",
    "              [ 3.,  1., -1.]])"
   ]
  },
  {
   "cell_type": "code",
   "execution_count": 4,
   "metadata": {},
   "outputs": [],
   "source": [
    "officialMinMaxScaler = MinMaxScaler(feature_range=(0, 1))\n",
    "offcialNormalizerL2 = Normalizer(norm='l2')\n",
    "\n",
    "myMinMaxScaler = MyMinMaxScaler(min = 0, max = 1)\n",
    "myNormalizerL2 = MyNormalizer('l2')"
   ]
  },
  {
   "cell_type": "code",
   "execution_count": 5,
   "metadata": {},
   "outputs": [
    {
     "name": "stdout",
     "output_type": "stream",
     "text": [
      "officialMinMaxScaler Result: \n",
      "[[0.         0.         0.66666667]\n",
      " [0.5        0.5        1.        ]\n",
      " [1.         1.         0.        ]]\n",
      "--------------------------------------------------\n",
      "MyMinMaxScaler Result: \n",
      "[[0.         0.         0.66666667]\n",
      " [0.5        0.5        1.        ]\n",
      " [1.         1.         0.        ]]\n"
     ]
    }
   ],
   "source": [
    "print('officialMinMaxScaler Result: ')\n",
    "print(officialMinMaxScaler.fit_transform(X))\n",
    "print('-' * 50)\n",
    "print('MyMinMaxScaler Result: ')\n",
    "print(myMinMaxScaler.fit(X))"
   ]
  },
  {
   "cell_type": "code",
   "execution_count": 6,
   "metadata": {},
   "outputs": [
    {
     "name": "stdout",
     "output_type": "stream",
     "text": [
      "offcialNormalizerL2 Result: \n",
      "[[ 0.57735027 -0.57735027  0.57735027]\n",
      " [ 0.70710678  0.          0.70710678]\n",
      " [ 0.90453403  0.30151134 -0.30151134]]\n",
      "--------------------------------------------------\n",
      "myNormalizerL2 Result: \n",
      "[[ 0.57735027 -0.57735027  0.57735027]\n",
      " [ 0.70710678  0.          0.70710678]\n",
      " [ 0.90453403  0.30151134 -0.30151134]]\n"
     ]
    }
   ],
   "source": [
    "print('offcialNormalizerL2 Result: ')\n",
    "print(offcialNormalizerL2.fit_transform(X))\n",
    "print('-' * 50)\n",
    "print('myNormalizerL2 Result: ')\n",
    "print(myNormalizerL2.fit(X))"
   ]
  }
 ],
 "metadata": {
  "kernelspec": {
   "display_name": "Python 3",
   "language": "python",
   "name": "python3"
  },
  "language_info": {
   "codemirror_mode": {
    "name": "ipython",
    "version": 3
   },
   "file_extension": ".py",
   "mimetype": "text/x-python",
   "name": "python",
   "nbconvert_exporter": "python",
   "pygments_lexer": "ipython3",
   "version": "3.6.8"
  }
 },
 "nbformat": 4,
 "nbformat_minor": 4
}
